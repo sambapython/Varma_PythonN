{
 "cells": [
  {
   "cell_type": "code",
   "execution_count": 11,
   "metadata": {
    "collapsed": false
   },
   "outputs": [
    {
     "data": {
      "text/plain": [
       "15"
      ]
     },
     "execution_count": 11,
     "metadata": {},
     "output_type": "execute_result"
    }
   ],
   "source": [
    "s=\"python tutorial\"\n",
    "len(s)\n"
   ]
  },
  {
   "cell_type": "code",
   "execution_count": 15,
   "metadata": {
    "collapsed": false
   },
   "outputs": [
    {
     "name": "stdout",
     "output_type": "stream",
     "text": [
      "Python Tutorial\n",
      "python tutorial\n"
     ]
    }
   ],
   "source": [
    "#lower--all character to lower case\n",
    "s=\"Python Tutorial\"\n",
    "new=s.lower()\n",
    "print s \n",
    "print new\n",
    "\n"
   ]
  },
  {
   "cell_type": "code",
   "execution_count": 17,
   "metadata": {
    "collapsed": false
   },
   "outputs": [
    {
     "name": "stdout",
     "output_type": "stream",
     "text": [
      "Python Tutorial\n",
      "PYTHON TUTORIAL\n"
     ]
    }
   ],
   "source": [
    "#upper--all characters to uppper case\n",
    "s=\"Python Tutorial\"\n",
    "new=s.upper()\n",
    "print s \n",
    "print new"
   ]
  },
  {
   "cell_type": "code",
   "execution_count": 26,
   "metadata": {
    "collapsed": false
   },
   "outputs": [
    {
     "name": "stdout",
     "output_type": "stream",
     "text": [
      "2\n",
      "1\n"
     ]
    }
   ],
   "source": [
    "#count---no of times character appeared in the string(case senstive)\n",
    "s=\"Python Tutorialpp\"\n",
    "print s.count(\"p\")\n",
    "print s.count(\"P\")"
   ]
  },
  {
   "cell_type": "code",
   "execution_count": 31,
   "metadata": {
    "collapsed": false
   },
   "outputs": [
    {
     "name": "stdout",
     "output_type": "stream",
     "text": [
      "Python tutorial\n",
      "Python tutorial\n"
     ]
    }
   ],
   "source": [
    "#capitalize---will capaitalize only first character in the string \n",
    "#if input is all capital then makes \n",
    "s=\"Python tutorial\"\n",
    "b=\"PYTHON TUTORIAL\"\n",
    "print s.capitalize()\n",
    "\n",
    "print b.capitalize()"
   ]
  },
  {
   "cell_type": "code",
   "execution_count": 35,
   "metadata": {
    "collapsed": false
   },
   "outputs": [
    {
     "name": "stdout",
     "output_type": "stream",
     "text": [
      "Python tutorial\n",
      "Python tutorial                      \n",
      "                      Python tutorial\n"
     ]
    }
   ],
   "source": [
    "#strip--will remove all white spaces in left and right hand side of string\n",
    "#lstrip--will remove all white spaces in left\n",
    "#rstrip --will remove all white spaces in right\n",
    "\n",
    "s=\"                      Python tutorial                      \"\n",
    "print s.strip()\n",
    "print s.lstrip()\n",
    "print s.rstrip()\n",
    "\n"
   ]
  },
  {
   "cell_type": "code",
   "execution_count": 70,
   "metadata": {
    "collapsed": false
   },
   "outputs": [
    {
     "name": "stdout",
     "output_type": "stream",
     "text": [
      "0\n",
      "15\n",
      "7\n",
      "-1\n"
     ]
    }
   ],
   "source": [
    "#find---will return a index value of character mentioned (case sensitive)\n",
    "#rfind--will return a index value of character form right most\n",
    "#if we mention the \"word\" in find will return first character index value in string\n",
    "#if find unable to locate a character in string then it will return \"-1\"\n",
    "s=\"Python tutorialPython tutorial\"\n",
    "print s.find(\"P\")\n",
    "print s.rfind(\"P\")\n",
    "print s.find(\"tutorialPython\")\n",
    "print s.find(\"z\")"
   ]
  },
  {
   "cell_type": "code",
   "execution_count": 72,
   "metadata": {
    "collapsed": false
   },
   "outputs": [
    {
     "name": "stdout",
     "output_type": "stream",
     "text": [
      "                          python tutorial\n"
     ]
    },
    {
     "data": {
      "text/plain": [
       "15"
      ]
     },
     "execution_count": 72,
     "metadata": {},
     "output_type": "execute_result"
    }
   ],
   "source": [
    "b=\"                          PYTHON TUTORIAL                          \"\n",
    "len(b)\n",
    "print b.rstrip().capitalize()\n",
    "len(a)"
   ]
  },
  {
   "cell_type": "code",
   "execution_count": 73,
   "metadata": {
    "collapsed": false
   },
   "outputs": [
    {
     "name": "stdout",
     "output_type": "stream",
     "text": [
      "True\n",
      "False\n"
     ]
    }
   ],
   "source": [
    "s=\"123\"\n",
    "s1=\"varma\"\n",
    "s2=\"varma123\"\n",
    "print s.isdigit()\n",
    "print s.isalpha()"
   ]
  },
  {
   "cell_type": "code",
   "execution_count": 74,
   "metadata": {
    "collapsed": false
   },
   "outputs": [
    {
     "data": {
      "text/plain": [
       "True"
      ]
     },
     "execution_count": 74,
     "metadata": {},
     "output_type": "execute_result"
    }
   ],
   "source": [
    "s=\"PYTHON TUTORIAL\"#(case sensitive)\n",
    "s.startswith(\"P\")\n",
    "s.endswith(\"L\")"
   ]
  },
  {
   "cell_type": "code",
   "execution_count": null,
   "metadata": {
    "collapsed": true
   },
   "outputs": [],
   "source": []
  }
 ],
 "metadata": {
  "kernelspec": {
   "display_name": "Python 2",
   "language": "python",
   "name": "python2"
  },
  "language_info": {
   "codemirror_mode": {
    "name": "ipython",
    "version": 2
   },
   "file_extension": ".py",
   "mimetype": "text/x-python",
   "name": "python",
   "nbconvert_exporter": "python",
   "pygments_lexer": "ipython2",
   "version": "2.7.13"
  }
 },
 "nbformat": 4,
 "nbformat_minor": 2
}
